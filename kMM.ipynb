{
 "cells": [
  {
   "cell_type": "code",
   "execution_count": 1,
   "metadata": {},
   "outputs": [
    {
     "name": "stdout",
     "output_type": "stream",
     "text": [
      "ok\n"
     ]
    }
   ],
   "source": [
    "print('ok')"
   ]
  },
  {
   "cell_type": "code",
   "execution_count": 1,
   "metadata": {},
   "outputs": [],
   "source": [
    "import numpy as np  \n",
    "import pandas as pd\n",
    "import io\n",
    "import requests\n",
    "from sklearn.neighbors import KNeighborsClassifier\n",
    "from sklearn import metrics\n",
    "import itertools\n",
    "import matplotlib.pyplot as plt\n",
    "from matplotlib.ticker import NullFormatter\n",
    "import matplotlib.ticker as ticker\n",
    "from sklearn import preprocessing\n",
    "%matplotlib inline"
   ]
  },
  {
   "cell_type": "code",
   "execution_count": 2,
   "metadata": {},
   "outputs": [
    {
     "name": "stdout",
     "output_type": "stream",
     "text": [
      "Solving environment: done\n",
      "\n",
      "\n",
      "==> WARNING: A newer version of conda exists. <==\n",
      "  current version: 4.5.11\n",
      "  latest version: 4.8.0\n",
      "\n",
      "Please update conda by running\n",
      "\n",
      "    $ conda update -n base -c defaults conda\n",
      "\n",
      "\n",
      "\n",
      "## Package Plan ##\n",
      "\n",
      "  environment location: /home/jupyterlab/conda/envs/python\n",
      "\n",
      "  added / updated specs: \n",
      "    - xlrd\n",
      "\n",
      "\n",
      "The following packages will be downloaded:\n",
      "\n",
      "    package                    |            build\n",
      "    ---------------------------|-----------------\n",
      "    numpy-base-1.15.4          |   py36h81de0dd_0         4.2 MB  anaconda\n",
      "    numpy-1.15.4               |   py36h1d66e8a_0          35 KB  anaconda\n",
      "    openssl-1.1.1              |       h7b6447c_0         5.0 MB  anaconda\n",
      "    mkl_fft-1.0.6              |   py36h7dd41cf_0         150 KB  anaconda\n",
      "    certifi-2019.11.28         |           py36_0         156 KB  anaconda\n",
      "    blas-1.0                   |              mkl           6 KB  anaconda\n",
      "    scipy-1.1.0                |   py36hfa4b5c9_1        18.0 MB  anaconda\n",
      "    xlrd-1.2.0                 |             py_0         108 KB  anaconda\n",
      "    mkl_random-1.0.1           |   py36h4414c95_1         373 KB  anaconda\n",
      "    scikit-learn-0.20.1        |   py36h4989274_0         5.7 MB  anaconda\n",
      "    ------------------------------------------------------------\n",
      "                                           Total:        33.7 MB\n",
      "\n",
      "The following packages will be UPDATED:\n",
      "\n",
      "    certifi:      2019.9.11-py36_0                       conda-forge --> 2019.11.28-py36_0     anaconda\n",
      "    mkl_fft:      1.0.4-py37h4414c95_1                               --> 1.0.6-py36h7dd41cf_0  anaconda\n",
      "    mkl_random:   1.0.1-py37h4414c95_1                               --> 1.0.1-py36h4414c95_1  anaconda\n",
      "    numpy-base:   1.15.1-py37h81de0dd_0                              --> 1.15.4-py36h81de0dd_0 anaconda\n",
      "    openssl:      1.1.1d-h516909a_0                      conda-forge --> 1.1.1-h7b6447c_0      anaconda\n",
      "    xlrd:         1.1.0-py37_1                                       --> 1.2.0-py_0            anaconda\n",
      "\n",
      "The following packages will be DOWNGRADED:\n",
      "\n",
      "    blas:         1.1-openblas                           conda-forge --> 1.0-mkl               anaconda\n",
      "    numpy:        1.16.2-py36_blas_openblash1522bff_0    conda-forge [blas_openblas] --> 1.15.4-py36h1d66e8a_0 anaconda\n",
      "    scikit-learn: 0.20.1-py36_blas_openblashebff5e3_1200 conda-forge [blas_openblas] --> 0.20.1-py36h4989274_0 anaconda\n",
      "    scipy:        1.2.1-py36_blas_openblash1522bff_0     conda-forge [blas_openblas] --> 1.1.0-py36hfa4b5c9_1  anaconda\n",
      "\n",
      "\n",
      "Downloading and Extracting Packages\n",
      "numpy-base-1.15.4    | 4.2 MB    | ##################################### | 100% \n",
      "numpy-1.15.4         | 35 KB     | ##################################### | 100% \n",
      "openssl-1.1.1        | 5.0 MB    | ##################################### | 100% \n",
      "mkl_fft-1.0.6        | 150 KB    | ##################################### | 100% \n",
      "certifi-2019.11.28   | 156 KB    | ##################################### | 100% \n",
      "blas-1.0             | 6 KB      | ##################################### | 100% \n",
      "scipy-1.1.0          | 18.0 MB   | ##################################### | 100% \n",
      "xlrd-1.2.0           | 108 KB    | ##################################### | 100% \n",
      "mkl_random-1.0.1     | 373 KB    | ##################################### | 100% \n",
      "scikit-learn-0.20.1  | 5.7 MB    | ##################################### | 100% \n",
      "Preparing transaction: done\n",
      "Verifying transaction: done\n",
      "Executing transaction: done\n",
      "\n",
      "Note: you may need to restart the kernel to use updated packages.\n"
     ]
    }
   ],
   "source": [
    "conda install -c anaconda xlrd --yes"
   ]
  },
  {
   "cell_type": "code",
   "execution_count": 3,
   "metadata": {},
   "outputs": [
    {
     "name": "stdout",
     "output_type": "stream",
     "text": [
      "Solving environment: done\n",
      "\n",
      "\n",
      "==> WARNING: A newer version of conda exists. <==\n",
      "  current version: 4.5.11\n",
      "  latest version: 4.8.0\n",
      "\n",
      "Please update conda by running\n",
      "\n",
      "    $ conda update -n base -c defaults conda\n",
      "\n",
      "\n",
      "\n",
      "## Package Plan ##\n",
      "\n",
      "  environment location: /home/jupyterlab/conda/envs/python\n",
      "\n",
      "  added / updated specs: \n",
      "    - openpyxl\n",
      "\n",
      "\n",
      "The following packages will be downloaded:\n",
      "\n",
      "    package                    |            build\n",
      "    ---------------------------|-----------------\n",
      "    et_xmlfile-1.0.1           |           py36_0          20 KB\n",
      "    certifi-2019.11.28         |           py36_0         156 KB\n",
      "    jdcal-1.4.1                |             py_0          11 KB\n",
      "    openpyxl-3.0.2             |             py_0         158 KB\n",
      "    openssl-1.1.1d             |       h7b6447c_3         3.7 MB\n",
      "    ------------------------------------------------------------\n",
      "                                           Total:         4.1 MB\n",
      "\n",
      "The following packages will be UPDATED:\n",
      "\n",
      "    certifi:    2019.11.28-py36_0 anaconda --> 2019.11.28-py36_0\n",
      "    et_xmlfile: 1.0.1-py37_0               --> 1.0.1-py36_0     \n",
      "    jdcal:      1.4-py37_0                 --> 1.4.1-py_0       \n",
      "    openpyxl:   2.5.6-py37_0               --> 3.0.2-py_0       \n",
      "\n",
      "The following packages will be DOWNGRADED:\n",
      "\n",
      "    openssl:    1.1.1-h7b6447c_0  anaconda --> 1.1.1d-h7b6447c_3\n",
      "\n",
      "\n",
      "Downloading and Extracting Packages\n",
      "et_xmlfile-1.0.1     | 20 KB     | ##################################### | 100% \n",
      "certifi-2019.11.28   | 156 KB    | ##################################### | 100% \n",
      "jdcal-1.4.1          | 11 KB     | ##################################### | 100% \n",
      "openpyxl-3.0.2       | 158 KB    | ##################################### | 100% \n",
      "openssl-1.1.1d       | 3.7 MB    | ##################################### | 100% \n",
      "Preparing transaction: done\n",
      "Verifying transaction: done\n",
      "Executing transaction: done\n",
      "\n",
      "Note: you may need to restart the kernel to use updated packages.\n"
     ]
    }
   ],
   "source": [
    "conda install openpyxl"
   ]
  },
  {
   "cell_type": "markdown",
   "metadata": {},
   "source": [
    "###STARTTTTTT"
   ]
  },
  {
   "cell_type": "code",
   "execution_count": 4,
   "metadata": {},
   "outputs": [],
   "source": [
    "#Reading the file\n",
    "\n",
    "df = pd.read_excel('xxx.xlsx')"
   ]
  },
  {
   "cell_type": "code",
   "execution_count": 5,
   "metadata": {},
   "outputs": [],
   "source": [
    "df.drop(['Unnamed: 0'], axis=1, inplace=True)"
   ]
  },
  {
   "cell_type": "code",
   "execution_count": 6,
   "metadata": {},
   "outputs": [
    {
     "data": {
      "text/plain": [
       "499"
      ]
     },
     "execution_count": 6,
     "metadata": {},
     "output_type": "execute_result"
    }
   ],
   "source": [
    "len(df)"
   ]
  },
  {
   "cell_type": "code",
   "execution_count": 7,
   "metadata": {},
   "outputs": [],
   "source": [
    "for index, row in df.iterrows():\n",
    "    L=[]\n",
    "    n=0\n",
    "    for char in df['FormH'][index]:\n",
    "        if char in [\"W\",\"D\",\"L\"]:\n",
    "            n+=1\n",
    "            L.append(char)\n",
    "    df.at[index, 'FormH'] = L\n",
    "for index, row in df.iterrows():\n",
    "    L=[]\n",
    "    n=0\n",
    "    for char in df['FormA'][index]:\n",
    "        if char in [\"W\",\"D\",\"L\"]:\n",
    "            n+=1\n",
    "            L.append(char)\n",
    "    df.at[index, 'FormA'] = L\n",
    "\n",
    "for index, row in df.iterrows():\n",
    "    for char in df['Result'][index]:\n",
    "        if char in [\"H\",\"D\",\"A\"]:\n",
    "            df.at[index, 'Result'] = char"
   ]
  },
  {
   "cell_type": "code",
   "execution_count": 8,
   "metadata": {},
   "outputs": [
    {
     "data": {
      "text/html": [
       "<div>\n",
       "<style scoped>\n",
       "    .dataframe tbody tr th:only-of-type {\n",
       "        vertical-align: middle;\n",
       "    }\n",
       "\n",
       "    .dataframe tbody tr th {\n",
       "        vertical-align: top;\n",
       "    }\n",
       "\n",
       "    .dataframe thead th {\n",
       "        text-align: right;\n",
       "    }\n",
       "</style>\n",
       "<table border=\"1\" class=\"dataframe\">\n",
       "  <thead>\n",
       "    <tr style=\"text-align: right;\">\n",
       "      <th></th>\n",
       "      <th>Away</th>\n",
       "      <th>EloA</th>\n",
       "      <th>EloH</th>\n",
       "      <th>FormA</th>\n",
       "      <th>FormH</th>\n",
       "      <th>Home</th>\n",
       "      <th>PA</th>\n",
       "      <th>PD</th>\n",
       "      <th>PH</th>\n",
       "      <th>Result</th>\n",
       "      <th>Sum</th>\n",
       "      <th>SumA</th>\n",
       "    </tr>\n",
       "  </thead>\n",
       "  <tbody>\n",
       "    <tr>\n",
       "      <th>0</th>\n",
       "      <td>Arsenal</td>\n",
       "      <td>1813</td>\n",
       "      <td>1603</td>\n",
       "      <td>[D, W, L, D, D, L, D]</td>\n",
       "      <td>[L, L, D, L, L, L, W]</td>\n",
       "      <td>Norwich</td>\n",
       "      <td>57.1</td>\n",
       "      <td>23.1</td>\n",
       "      <td>25.0</td>\n",
       "      <td>D</td>\n",
       "      <td>3</td>\n",
       "      <td>6</td>\n",
       "    </tr>\n",
       "  </tbody>\n",
       "</table>\n",
       "</div>"
      ],
      "text/plain": [
       "      Away  EloA  EloH                  FormA                  FormH     Home  \\\n",
       "0  Arsenal  1813  1603  [D, W, L, D, D, L, D]  [L, L, D, L, L, L, W]  Norwich   \n",
       "\n",
       "     PA    PD    PH Result  Sum  SumA  \n",
       "0  57.1  23.1  25.0      D    3     6  "
      ]
     },
     "execution_count": 8,
     "metadata": {},
     "output_type": "execute_result"
    }
   ],
   "source": [
    "df.head(1)"
   ]
  },
  {
   "cell_type": "code",
   "execution_count": 9,
   "metadata": {},
   "outputs": [],
   "source": [
    "for index, row in df.iterrows():\n",
    "    df.at[index, 'DivSum'] = df['Sum'][index]/float(df['SumA'][index]+0.5)\n",
    "    df.at[index, 'DSum'] = df['Sum'][index]-(df['SumA'][index])"
   ]
  },
  {
   "cell_type": "code",
   "execution_count": 10,
   "metadata": {},
   "outputs": [
    {
     "data": {
      "text/html": [
       "<div>\n",
       "<style scoped>\n",
       "    .dataframe tbody tr th:only-of-type {\n",
       "        vertical-align: middle;\n",
       "    }\n",
       "\n",
       "    .dataframe tbody tr th {\n",
       "        vertical-align: top;\n",
       "    }\n",
       "\n",
       "    .dataframe thead th {\n",
       "        text-align: right;\n",
       "    }\n",
       "</style>\n",
       "<table border=\"1\" class=\"dataframe\">\n",
       "  <thead>\n",
       "    <tr style=\"text-align: right;\">\n",
       "      <th></th>\n",
       "      <th>Away</th>\n",
       "      <th>EloA</th>\n",
       "      <th>EloH</th>\n",
       "      <th>FormA</th>\n",
       "      <th>FormH</th>\n",
       "      <th>Home</th>\n",
       "      <th>PA</th>\n",
       "      <th>PD</th>\n",
       "      <th>PH</th>\n",
       "      <th>Result</th>\n",
       "      <th>Sum</th>\n",
       "      <th>SumA</th>\n",
       "      <th>DivSum</th>\n",
       "      <th>DSum</th>\n",
       "    </tr>\n",
       "  </thead>\n",
       "  <tbody>\n",
       "    <tr>\n",
       "      <th>0</th>\n",
       "      <td>Arsenal</td>\n",
       "      <td>1813</td>\n",
       "      <td>1603</td>\n",
       "      <td>[D, W, L, D, D, L, D]</td>\n",
       "      <td>[L, L, D, L, L, L, W]</td>\n",
       "      <td>Norwich</td>\n",
       "      <td>57.1</td>\n",
       "      <td>23.1</td>\n",
       "      <td>25.0</td>\n",
       "      <td>D</td>\n",
       "      <td>3</td>\n",
       "      <td>6</td>\n",
       "      <td>0.461538</td>\n",
       "      <td>-3.0</td>\n",
       "    </tr>\n",
       "    <tr>\n",
       "      <th>1</th>\n",
       "      <td>SheffieldUnited</td>\n",
       "      <td>1673</td>\n",
       "      <td>1745</td>\n",
       "      <td>[L, D, W, D, W, D, D]</td>\n",
       "      <td>[W, W, D, D, D, W, W]</td>\n",
       "      <td>Wolves</td>\n",
       "      <td>23.8</td>\n",
       "      <td>28.6</td>\n",
       "      <td>52.6</td>\n",
       "      <td>D</td>\n",
       "      <td>11</td>\n",
       "      <td>8</td>\n",
       "      <td>1.294118</td>\n",
       "      <td>3.0</td>\n",
       "    </tr>\n",
       "    <tr>\n",
       "      <th>2</th>\n",
       "      <td>Everton</td>\n",
       "      <td>1701</td>\n",
       "      <td>1820</td>\n",
       "      <td>[L, L, W, L, D, W, L]</td>\n",
       "      <td>[W, L, W, W, W, W, W]</td>\n",
       "      <td>Leicester</td>\n",
       "      <td>19.0</td>\n",
       "      <td>25.0</td>\n",
       "      <td>62.1</td>\n",
       "      <td>H</td>\n",
       "      <td>12</td>\n",
       "      <td>5</td>\n",
       "      <td>2.181818</td>\n",
       "      <td>7.0</td>\n",
       "    </tr>\n",
       "    <tr>\n",
       "      <th>3</th>\n",
       "      <td>AstonVilla</td>\n",
       "      <td>1641</td>\n",
       "      <td>1795</td>\n",
       "      <td>[D, W, W, L, L, L, W]</td>\n",
       "      <td>[D, L, D, W, L, W, D]</td>\n",
       "      <td>ManUnited</td>\n",
       "      <td>14.3</td>\n",
       "      <td>22.2</td>\n",
       "      <td>69.0</td>\n",
       "      <td>D</td>\n",
       "      <td>7</td>\n",
       "      <td>7</td>\n",
       "      <td>0.933333</td>\n",
       "      <td>0.0</td>\n",
       "    </tr>\n",
       "    <tr>\n",
       "      <th>4</th>\n",
       "      <td>ManCity</td>\n",
       "      <td>1994</td>\n",
       "      <td>1698</td>\n",
       "      <td>[W, L, W, W, W, L, W]</td>\n",
       "      <td>[L, W, L, D, W, W, L]</td>\n",
       "      <td>Newcastle</td>\n",
       "      <td>86.2</td>\n",
       "      <td>12.5</td>\n",
       "      <td>7.7</td>\n",
       "      <td>D</td>\n",
       "      <td>7</td>\n",
       "      <td>10</td>\n",
       "      <td>0.666667</td>\n",
       "      <td>-3.0</td>\n",
       "    </tr>\n",
       "  </tbody>\n",
       "</table>\n",
       "</div>"
      ],
      "text/plain": [
       "              Away  EloA  EloH                  FormA                  FormH  \\\n",
       "0          Arsenal  1813  1603  [D, W, L, D, D, L, D]  [L, L, D, L, L, L, W]   \n",
       "1  SheffieldUnited  1673  1745  [L, D, W, D, W, D, D]  [W, W, D, D, D, W, W]   \n",
       "2          Everton  1701  1820  [L, L, W, L, D, W, L]  [W, L, W, W, W, W, W]   \n",
       "3       AstonVilla  1641  1795  [D, W, W, L, L, L, W]  [D, L, D, W, L, W, D]   \n",
       "4          ManCity  1994  1698  [W, L, W, W, W, L, W]  [L, W, L, D, W, W, L]   \n",
       "\n",
       "        Home    PA    PD    PH Result  Sum  SumA    DivSum  DSum  \n",
       "0    Norwich  57.1  23.1  25.0      D    3     6  0.461538  -3.0  \n",
       "1     Wolves  23.8  28.6  52.6      D   11     8  1.294118   3.0  \n",
       "2  Leicester  19.0  25.0  62.1      H   12     5  2.181818   7.0  \n",
       "3  ManUnited  14.3  22.2  69.0      D    7     7  0.933333   0.0  \n",
       "4  Newcastle  86.2  12.5   7.7      D    7    10  0.666667  -3.0  "
      ]
     },
     "execution_count": 10,
     "metadata": {},
     "output_type": "execute_result"
    }
   ],
   "source": [
    "df.head()"
   ]
  },
  {
   "cell_type": "code",
   "execution_count": 18,
   "metadata": {},
   "outputs": [],
   "source": [
    "#Train/test set with sum of FORM-ELO\n",
    "\n",
    "X = df[['DSum', 'EloH', 'EloA']] .values  #.astype(float)\n",
    "#X = df[['EloH','EloA']] .values\n",
    "\n",
    "#Train/test set with BETS\n",
    "#X = df[['PH', 'PD', 'PA']] .values  #.astype(float)\n",
    "\n",
    "y = df['Result'].values\n",
    "\n",
    "\n",
    "\n"
   ]
  },
  {
   "cell_type": "markdown",
   "metadata": {},
   "source": [
    "BEST VALUES: EloH - EloA - DSum for k =5\n"
   ]
  },
  {
   "cell_type": "code",
   "execution_count": 19,
   "metadata": {},
   "outputs": [
    {
     "data": {
      "text/plain": [
       "array([[-0.7559602 ,  0.35588966,  1.80201256],\n",
       "       [ 0.79109711,  1.31447974,  0.84941521],\n",
       "       [ 1.82246865,  1.82077732,  1.03993468],\n",
       "       [ 0.01756845,  1.65201146,  0.63167868],\n",
       "       [-0.7559602 ,  0.99719992,  3.03358485]])"
      ]
     },
     "execution_count": 19,
     "metadata": {},
     "output_type": "execute_result"
    }
   ],
   "source": [
    "X = preprocessing.StandardScaler().fit(X).transform(X.astype(float))\n",
    "X[0:5]"
   ]
  },
  {
   "cell_type": "code",
   "execution_count": 20,
   "metadata": {},
   "outputs": [
    {
     "name": "stdout",
     "output_type": "stream",
     "text": [
      "Train set: (399, 3) (399,)\n",
      "Test set: (100, 3) (100,)\n"
     ]
    }
   ],
   "source": [
    "from sklearn.model_selection import train_test_split\n",
    "X_train, X_test, y_train, y_test = train_test_split( X, y, test_size=0.2, random_state=4)\n",
    "print ('Train set:', X_train.shape,  y_train.shape)\n",
    "print ('Test set:', X_test.shape,  y_test.shape)"
   ]
  },
  {
   "cell_type": "code",
   "execution_count": null,
   "metadata": {},
   "outputs": [],
   "source": []
  },
  {
   "cell_type": "code",
   "execution_count": 21,
   "metadata": {},
   "outputs": [
    {
     "data": {
      "image/png": "[encoded data removed]",
      "text/plain": [
       "<Figure size 432x288 with 1 Axes>"
      ]
     },
     "metadata": {
      "needs_background": "light"
     },
     "output_type": "display_data"
    }
   ],
   "source": [
    "Ks = 25\n",
    "mean_acc = np.zeros((Ks-1))\n",
    "std_acc = np.zeros((Ks-1))\n",
    "ConfustionMx = [];\n",
    "for n in range(1,Ks):\n",
    "    \n",
    "    #Train Model and Predict  \n",
    "    neigh = KNeighborsClassifier(n_neighbors = n).fit(X_train,y_train)\n",
    "    yhat=neigh.predict(X_test)\n",
    "    mean_acc[n-1] = metrics.accuracy_score(y_test, yhat)\n",
    "\n",
    "    \n",
    "    std_acc[n-1]=np.std(yhat==y_test)/np.sqrt(yhat.shape[0])\n",
    "\n",
    "mean_acc\n",
    "\n",
    "plt.plot(range(1,Ks),mean_acc,'g')\n",
    "plt.fill_between(range(1,Ks),mean_acc - 1 * std_acc,mean_acc + 1 * std_acc, alpha=0.10)\n",
    "plt.legend(('Accuracy ', '+/- 3xstd'))\n",
    "plt.ylabel('Accuracy ')\n",
    "plt.xlabel('Number of Nabors (K)')\n",
    "plt.tight_layout()\n",
    "plt.show()"
   ]
  },
  {
   "cell_type": "code",
   "execution_count": 22,
   "metadata": {},
   "outputs": [
    {
     "name": "stdout",
     "output_type": "stream",
     "text": [
      "Train set Accuracy:  0.5463659147869674\n",
      "Test set Accuracy:  0.57\n"
     ]
    }
   ],
   "source": [
    "k = 20\n",
    "neigh6 = KNeighborsClassifier(n_neighbors = k).fit(X_train,y_train)\n",
    "yhat6 = neigh6.predict(X_test)\n",
    "print(\"Train set Accuracy: \", metrics.accuracy_score(y_train, neigh6.predict(X_train)))\n",
    "print(\"Test set Accuracy: \", metrics.accuracy_score(y_test, yhat6))"
   ]
  },
  {
   "cell_type": "code",
   "execution_count": 23,
   "metadata": {},
   "outputs": [
    {
     "data": {
      "text/plain": [
       "array(['A', 'H', 'D', 'H', 'D', 'H', 'A', 'H', 'H', 'H', 'A', 'A', 'H',\n",
       "       'A', 'H', 'A', 'H', 'H', 'A', 'H', 'A', 'H', 'A', 'H', 'A', 'D',\n",
       "       'H', 'H', 'A', 'H', 'A', 'H', 'D', 'H', 'A', 'A', 'H', 'H', 'D',\n",
       "       'H', 'H', 'H', 'D', 'H', 'A', 'H', 'A', 'H', 'H', 'A', 'A', 'D',\n",
       "       'H', 'A', 'H', 'A', 'H', 'H', 'D', 'A', 'H', 'D', 'A', 'H', 'H',\n",
       "       'H', 'A', 'D', 'H', 'H', 'H', 'H', 'A', 'H', 'A', 'A', 'H', 'H',\n",
       "       'H', 'H', 'A', 'H', 'A', 'D', 'H', 'H', 'H', 'H', 'A', 'H', 'H',\n",
       "       'H', 'H', 'H', 'H', 'H', 'H', 'A', 'H', 'H'], dtype=object)"
      ]
     },
     "execution_count": 23,
     "metadata": {},
     "output_type": "execute_result"
    }
   ],
   "source": [
    "yhat"
   ]
  },
  {
   "cell_type": "code",
   "execution_count": 24,
   "metadata": {},
   "outputs": [
    {
     "data": {
      "text/plain": [
       "array(['D', 'H', 'H', 'D', 'H', 'H', 'A', 'H', 'A', 'H', 'H', 'A', 'D',\n",
       "       'A', 'H', 'D', 'H', 'D', 'A', 'H', 'H', 'H', 'A', 'D', 'H', 'H',\n",
       "       'H', 'H', 'H', 'H', 'A', 'H', 'D', 'A', 'A', 'H', 'A', 'A', 'D',\n",
       "       'D', 'H', 'A', 'A', 'H', 'A', 'D', 'D', 'D', 'H', 'A', 'A', 'H',\n",
       "       'H', 'H', 'D', 'H', 'H', 'D', 'D', 'H', 'A', 'D', 'A', 'H', 'A',\n",
       "       'H', 'A', 'A', 'H', 'H', 'H', 'H', 'D', 'H', 'D', 'A', 'A', 'H',\n",
       "       'H', 'H', 'A', 'A', 'A', 'A', 'H', 'H', 'H', 'H', 'D', 'A', 'H',\n",
       "       'H', 'D', 'H', 'D', 'H', 'A', 'D', 'D', 'H'], dtype=object)"
      ]
     },
     "execution_count": 24,
     "metadata": {},
     "output_type": "execute_result"
    }
   ],
   "source": [
    "y_test"
   ]
  },
  {
   "cell_type": "code",
   "execution_count": null,
   "metadata": {},
   "outputs": [],
   "source": []
  }
 ],
 "metadata": {
  "kernelspec": {
   "display_name": "Python",
   "language": "python",
   "name": "conda-env-python-py"
  },
  "language_info": {
   "codemirror_mode": {
    "name": "ipython",
    "version": 3
   },
   "file_extension": ".py",
   "mimetype": "text/x-python",
   "name": "python",
   "nbconvert_exporter": "python",
   "pygments_lexer": "ipython3",
   "version": "3.6.7"
  }
 },
 "nbformat": 4,
 "nbformat_minor": 4
}
