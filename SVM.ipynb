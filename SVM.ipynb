{
 "cells": [
  {
   "cell_type": "code",
   "execution_count": 1,
   "metadata": {},
   "outputs": [
    {
     "name": "stdout",
     "output_type": "stream",
     "text": [
      "ok\n"
     ]
    }
   ],
   "source": [
    "print('ok')"
   ]
  },
  {
   "cell_type": "code",
   "execution_count": 2,
   "metadata": {},
   "outputs": [],
   "source": [
    "import numpy as np  \n",
    "import pandas as pd\n",
    "import io\n",
    "import requests\n",
    "from sklearn import metrics\n",
    "import itertools\n",
    "import matplotlib.pyplot as plt\n",
    "%matplotlib inline\n",
    "\n",
    "\n",
    "import pylab as pl\n",
    "import scipy.optimize as opt\n",
    "from sklearn import preprocessing\n",
    "from sklearn.model_selection import train_test_split\n",
    "from sklearn import svm"
   ]
  },
  {
   "cell_type": "code",
   "execution_count": 3,
   "metadata": {},
   "outputs": [
    {
     "name": "stdout",
     "output_type": "stream",
     "text": [
      "Solving environment: done\n",
      "\n",
      "\n",
      "==> WARNING: A newer version of conda exists. <==\n",
      "  current version: 4.5.11\n",
      "  latest version: 4.8.0\n",
      "\n",
      "Please update conda by running\n",
      "\n",
      "    $ conda update -n base -c defaults conda\n",
      "\n",
      "\n",
      "\n",
      "## Package Plan ##\n",
      "\n",
      "  environment location: /home/jupyterlab/conda/envs/python\n",
      "\n",
      "  added / updated specs: \n",
      "    - xlrd\n",
      "\n",
      "\n",
      "The following packages will be downloaded:\n",
      "\n",
      "    package                    |            build\n",
      "    ---------------------------|-----------------\n",
      "    certifi-2019.11.28         |           py36_0         156 KB  anaconda\n",
      "\n",
      "The following packages will be UPDATED:\n",
      "\n",
      "    certifi: 2019.11.28-py36_0 --> 2019.11.28-py36_0 anaconda\n",
      "    openssl: 1.1.1d-h7b6447c_3 --> 1.1.1-h7b6447c_0  anaconda\n",
      "\n",
      "\n",
      "Downloading and Extracting Packages\n",
      "certifi-2019.11.28   | 156 KB    | ##################################### | 100% \n",
      "Preparing transaction: done\n",
      "Verifying transaction: done\n",
      "Executing transaction: done\n",
      "\n",
      "Note: you may need to restart the kernel to use updated packages.\n"
     ]
    }
   ],
   "source": [
    "conda install -c anaconda xlrd --yes"
   ]
  },
  {
   "cell_type": "code",
   "execution_count": 4,
   "metadata": {},
   "outputs": [
    {
     "name": "stdout",
     "output_type": "stream",
     "text": [
      "Solving environment: done\n",
      "\n",
      "\n",
      "==> WARNING: A newer version of conda exists. <==\n",
      "  current version: 4.5.11\n",
      "  latest version: 4.8.0\n",
      "\n",
      "Please update conda by running\n",
      "\n",
      "    $ conda update -n base -c defaults conda\n",
      "\n",
      "\n",
      "\n",
      "## Package Plan ##\n",
      "\n",
      "  environment location: /home/jupyterlab/conda/envs/python\n",
      "\n",
      "  added / updated specs: \n",
      "    - openpyxl\n",
      "\n",
      "\n",
      "The following packages will be downloaded:\n",
      "\n",
      "    package                    |            build\n",
      "    ---------------------------|-----------------\n",
      "    certifi-2019.11.28         |           py36_0         156 KB\n",
      "\n",
      "The following packages will be UPDATED:\n",
      "\n",
      "    certifi: 2019.11.28-py36_0 anaconda --> 2019.11.28-py36_0\n",
      "\n",
      "The following packages will be DOWNGRADED:\n",
      "\n",
      "    openssl: 1.1.1-h7b6447c_0  anaconda --> 1.1.1d-h7b6447c_3\n",
      "\n",
      "\n",
      "Downloading and Extracting Packages\n",
      "certifi-2019.11.28   | 156 KB    | ##################################### | 100% \n",
      "Preparing transaction: done\n",
      "Verifying transaction: done\n",
      "Executing transaction: done\n",
      "\n",
      "Note: you may need to restart the kernel to use updated packages.\n"
     ]
    }
   ],
   "source": [
    "conda install openpyxl"
   ]
  },
  {
   "cell_type": "markdown",
   "metadata": {},
   "source": [
    "###STARTTTTTT"
   ]
  },
  {
   "cell_type": "code",
   "execution_count": 3,
   "metadata": {},
   "outputs": [
    {
     "data": {
      "text/plain": [
       "499"
      ]
     },
     "execution_count": 3,
     "metadata": {},
     "output_type": "execute_result"
    }
   ],
   "source": [
    "#Reading the file\n",
    "\n",
    "df = pd.read_excel('xxx.xlsx')\n",
    "\n",
    "df.drop(['Unnamed: 0'], axis=1, inplace=True)\n",
    "\n",
    "len(df)"
   ]
  },
  {
   "cell_type": "code",
   "execution_count": 44,
   "metadata": {},
   "outputs": [],
   "source": [
    "for i in range(len(df)):\n",
    "    n=0\n",
    "    for char in df['FormH'][i]:\n",
    "        if char=='D':\n",
    "            n+=1\n",
    "        elif char=='W':\n",
    "            n+=3\n",
    "    df.at[i, 'Sum'] = n\n",
    "    \n",
    "for i in range(len(df)):\n",
    "    n=0\n",
    "    for char in df['FormA'][i]:\n",
    "        if char=='D':\n",
    "            n+=1\n",
    "        elif char=='W':\n",
    "            n+=3\n",
    "    df.at[i, 'SumA'] = n\n",
    "\n",
    "for index, row in df.iterrows():\n",
    "    for char in df['Result'][index]:\n",
    "        if char in [\"H\",\"D\",\"A\"]:\n",
    "            df.at[index, 'Result'] = char"
   ]
  },
  {
   "cell_type": "code",
   "execution_count": 45,
   "metadata": {},
   "outputs": [
    {
     "data": {
      "text/html": [
       "<div>\n",
       "<style scoped>\n",
       "    .dataframe tbody tr th:only-of-type {\n",
       "        vertical-align: middle;\n",
       "    }\n",
       "\n",
       "    .dataframe tbody tr th {\n",
       "        vertical-align: top;\n",
       "    }\n",
       "\n",
       "    .dataframe thead th {\n",
       "        text-align: right;\n",
       "    }\n",
       "</style>\n",
       "<table border=\"1\" class=\"dataframe\">\n",
       "  <thead>\n",
       "    <tr style=\"text-align: right;\">\n",
       "      <th></th>\n",
       "      <th>Away</th>\n",
       "      <th>EloA</th>\n",
       "      <th>EloH</th>\n",
       "      <th>FormA</th>\n",
       "      <th>FormH</th>\n",
       "      <th>Home</th>\n",
       "      <th>PA</th>\n",
       "      <th>PD</th>\n",
       "      <th>PH</th>\n",
       "      <th>Result</th>\n",
       "      <th>Sum</th>\n",
       "      <th>SumA</th>\n",
       "      <th>DivSum</th>\n",
       "      <th>DSum</th>\n",
       "      <th>DElo</th>\n",
       "    </tr>\n",
       "  </thead>\n",
       "  <tbody>\n",
       "    <tr>\n",
       "      <th>0</th>\n",
       "      <td>Arsenal</td>\n",
       "      <td>1813</td>\n",
       "      <td>1603</td>\n",
       "      <td>D   W   L   D   D   L   D</td>\n",
       "      <td>L   L   D   L   L   L   W</td>\n",
       "      <td>Norwich</td>\n",
       "      <td>57.1</td>\n",
       "      <td>23.1</td>\n",
       "      <td>25.0</td>\n",
       "      <td>D</td>\n",
       "      <td>4</td>\n",
       "      <td>7</td>\n",
       "      <td>0.588235</td>\n",
       "      <td>-3.0</td>\n",
       "      <td>-210.0</td>\n",
       "    </tr>\n",
       "    <tr>\n",
       "      <th>1</th>\n",
       "      <td>SheffieldUnited</td>\n",
       "      <td>1673</td>\n",
       "      <td>1745</td>\n",
       "      <td>L   D   W   D   W   D   D</td>\n",
       "      <td>W   W   D   D   D   W   W</td>\n",
       "      <td>Wolves</td>\n",
       "      <td>23.8</td>\n",
       "      <td>28.6</td>\n",
       "      <td>52.6</td>\n",
       "      <td>D</td>\n",
       "      <td>15</td>\n",
       "      <td>10</td>\n",
       "      <td>1.520000</td>\n",
       "      <td>7.0</td>\n",
       "      <td>72.0</td>\n",
       "    </tr>\n",
       "    <tr>\n",
       "      <th>2</th>\n",
       "      <td>Everton</td>\n",
       "      <td>1701</td>\n",
       "      <td>1820</td>\n",
       "      <td>L   L   W   L   D   W   L</td>\n",
       "      <td>W   L   W   W   W   W   W</td>\n",
       "      <td>Leicester</td>\n",
       "      <td>19.0</td>\n",
       "      <td>25.0</td>\n",
       "      <td>62.1</td>\n",
       "      <td>H</td>\n",
       "      <td>18</td>\n",
       "      <td>7</td>\n",
       "      <td>2.526316</td>\n",
       "      <td>15.0</td>\n",
       "      <td>119.0</td>\n",
       "    </tr>\n",
       "    <tr>\n",
       "      <th>3</th>\n",
       "      <td>AstonVilla</td>\n",
       "      <td>1641</td>\n",
       "      <td>1795</td>\n",
       "      <td>D   W   W   L   L   L   W</td>\n",
       "      <td>D   L   D   W   L   W   D</td>\n",
       "      <td>ManUnited</td>\n",
       "      <td>14.3</td>\n",
       "      <td>22.2</td>\n",
       "      <td>69.0</td>\n",
       "      <td>D</td>\n",
       "      <td>9</td>\n",
       "      <td>10</td>\n",
       "      <td>0.814815</td>\n",
       "      <td>-2.0</td>\n",
       "      <td>154.0</td>\n",
       "    </tr>\n",
       "    <tr>\n",
       "      <th>4</th>\n",
       "      <td>ManCity</td>\n",
       "      <td>1994</td>\n",
       "      <td>1698</td>\n",
       "      <td>W   L   W   W   W   L   W</td>\n",
       "      <td>L   W   L   D   W   W   L</td>\n",
       "      <td>Newcastle</td>\n",
       "      <td>86.2</td>\n",
       "      <td>12.5</td>\n",
       "      <td>7.7</td>\n",
       "      <td>D</td>\n",
       "      <td>10</td>\n",
       "      <td>15</td>\n",
       "      <td>0.634146</td>\n",
       "      <td>-7.0</td>\n",
       "      <td>-296.0</td>\n",
       "    </tr>\n",
       "  </tbody>\n",
       "</table>\n",
       "</div>"
      ],
      "text/plain": [
       "              Away  EloA  EloH                        FormA  \\\n",
       "0          Arsenal  1813  1603   D   W   L   D   D   L   D    \n",
       "1  SheffieldUnited  1673  1745   L   D   W   D   W   D   D    \n",
       "2          Everton  1701  1820   L   L   W   L   D   W   L    \n",
       "3       AstonVilla  1641  1795   D   W   W   L   L   L   W    \n",
       "4          ManCity  1994  1698   W   L   W   W   W   L   W    \n",
       "\n",
       "                         FormH       Home    PA    PD    PH Result  Sum  SumA  \\\n",
       "0   L   L   D   L   L   L   W     Norwich  57.1  23.1  25.0      D    4     7   \n",
       "1   W   W   D   D   D   W   W      Wolves  23.8  28.6  52.6      D   15    10   \n",
       "2   W   L   W   W   W   W   W   Leicester  19.0  25.0  62.1      H   18     7   \n",
       "3   D   L   D   W   L   W   D   ManUnited  14.3  22.2  69.0      D    9    10   \n",
       "4   L   W   L   D   W   W   L   Newcastle  86.2  12.5   7.7      D   10    15   \n",
       "\n",
       "     DivSum  DSum   DElo  \n",
       "0  0.588235  -3.0 -210.0  \n",
       "1  1.520000   7.0   72.0  \n",
       "2  2.526316  15.0  119.0  \n",
       "3  0.814815  -2.0  154.0  \n",
       "4  0.634146  -7.0 -296.0  "
      ]
     },
     "execution_count": 45,
     "metadata": {},
     "output_type": "execute_result"
    }
   ],
   "source": [
    "df.head()"
   ]
  },
  {
   "cell_type": "code",
   "execution_count": 46,
   "metadata": {},
   "outputs": [],
   "source": [
    "for i, row in df.iterrows():\n",
    "    df.at[i, 'DivSum'] = df['Sum'][i]/float(df['SumA'][i]+0.5)\n",
    "    df.at[i, 'DSum'] = df['Sum'][i]-(df['SumA'][i])\n",
    "    df.at[i,'DElo'] = df['EloH'][i]- df['EloA'][i]"
   ]
  },
  {
   "cell_type": "code",
   "execution_count": 47,
   "metadata": {},
   "outputs": [
    {
     "data": {
      "image/png": "[encoded data removed]",
      "text/plain": [
       "<Figure size 432x288 with 1 Axes>"
      ]
     },
     "metadata": {
      "needs_background": "light"
     },
     "output_type": "display_data"
    }
   ],
   "source": [
    "xa = 'DElo'\n",
    "ya='DSum'\n",
    "ax = df[df['Result'] == 'H'][0:90].plot(kind='scatter', x=xa, y=ya, color='DarkBlue', label='Home');\n",
    "df[df['Result'] == 'A'][0:90].plot(kind='scatter', x= xa, y=ya, color='Yellow', label='Away', ax=ax);\n",
    "df[df['Result'] == 'D'][0:90].plot(kind='scatter', x=xa, y=ya, color='Red', label='Draw', ax=ax)\n",
    "plt.show()"
   ]
  },
  {
   "cell_type": "code",
   "execution_count": 74,
   "metadata": {},
   "outputs": [],
   "source": [
    "#Train/test set with sum of FORM-ELO\n",
    "\n",
    "X = np.asarray(df[[ 'Sum', 'SumA', 'EloA','EloH']])\n",
    "\n",
    "#X = df[['DSum', 'EloH', 'EloA']] .values  #.astype(float)\n",
    "#X = df[['EloH','EloA']] .values\n",
    "\n",
    "#Train/test set with BETS\n",
    "#X = df[['PH', 'PD', 'PA']] .values  #.astype(float)\n",
    "\n",
    "y = df['Result'].values\n"
   ]
  },
  {
   "cell_type": "markdown",
   "metadata": {},
   "source": [
    "Modeling\n",
    "========"
   ]
  },
  {
   "cell_type": "code",
   "execution_count": 75,
   "metadata": {},
   "outputs": [],
   "source": [
    "X_train, X_test, y_train, y_test = train_test_split( X, y, test_size=0.2, random_state=4)\n",
    "#print ('Train set:', X_train.shape,  y_train.shape)\n",
    "#print ('Test set:', X_test.shape,  y_test.shape)"
   ]
  },
  {
   "cell_type": "code",
   "execution_count": 76,
   "metadata": {},
   "outputs": [
    {
     "data": {
      "text/plain": [
       "SVC(C=1.0, cache_size=200, class_weight=None, coef0=0.0,\n",
       "  decision_function_shape='ovr', degree=3, gamma='auto_deprecated',\n",
       "  kernel='linear', max_iter=-1, probability=True, random_state=None,\n",
       "  shrinking=True, tol=0.001, verbose=False)"
      ]
     },
     "execution_count": 76,
     "metadata": {},
     "output_type": "execute_result"
    }
   ],
   "source": [
    "clf = svm.SVC(kernel='linear', probability=True)\n",
    "clf.fit(X_train, y_train) "
   ]
  },
  {
   "cell_type": "code",
   "execution_count": 77,
   "metadata": {},
   "outputs": [],
   "source": [
    "yhat = clf.predict(X_test)"
   ]
  },
  {
   "cell_type": "code",
   "execution_count": 78,
   "metadata": {},
   "outputs": [
    {
     "data": {
      "text/plain": [
       "0.6"
      ]
     },
     "execution_count": 78,
     "metadata": {},
     "output_type": "execute_result"
    }
   ],
   "source": [
    "from sklearn.metrics import jaccard_similarity_score\n",
    "jaccard_similarity_score(y_test, yhat)"
   ]
  },
  {
   "cell_type": "code",
   "execution_count": 79,
   "metadata": {},
   "outputs": [],
   "source": [
    "yhat_prob = clf.predict_proba(X_test)"
   ]
  },
  {
   "cell_type": "code",
   "execution_count": 80,
   "metadata": {},
   "outputs": [
    {
     "data": {
      "text/plain": [
       "array([[0.34246675, 0.25475807, 0.40277518],\n",
       "       [0.24104895, 0.24067973, 0.51827132],\n",
       "       [0.22637293, 0.23609401, 0.53753306],\n",
       "       [0.22554386, 0.23386375, 0.54059238],\n",
       "       [0.28011503, 0.22248761, 0.49739736],\n",
       "       [0.30465512, 0.23517194, 0.46017294],\n",
       "       [0.30093952, 0.2581328 , 0.44092769],\n",
       "       [0.17284971, 0.23932281, 0.58782748],\n",
       "       [0.19616745, 0.23719371, 0.56663885],\n",
       "       [0.23531824, 0.24080487, 0.5238769 ],\n",
       "       [0.34986415, 0.25099132, 0.39914453],\n",
       "       [0.36673878, 0.25982754, 0.37343368],\n",
       "       [0.25250049, 0.2364736 , 0.51102592],\n",
       "       [0.41194005, 0.2608978 , 0.32716215],\n",
       "       [0.11193669, 0.25279066, 0.63527265],\n",
       "       [0.39829663, 0.254713  , 0.34699037],\n",
       "       [0.14502111, 0.21386853, 0.64111036],\n",
       "       [0.24310872, 0.23332624, 0.52356504],\n",
       "       [0.44572259, 0.28394071, 0.27033669],\n",
       "       [0.13138248, 0.21173555, 0.65688197],\n",
       "       [0.43426755, 0.25874309, 0.30698936],\n",
       "       [0.32838609, 0.25193483, 0.41967908],\n",
       "       [0.26160376, 0.25648888, 0.48190737],\n",
       "       [0.21331091, 0.2275854 , 0.55910369],\n",
       "       [0.34726001, 0.23042429, 0.4223157 ],\n",
       "       [0.27324243, 0.24372789, 0.48302968],\n",
       "       [0.21084115, 0.23074951, 0.55840933],\n",
       "       [0.22994624, 0.23236086, 0.5376929 ],\n",
       "       [0.21260359, 0.23327187, 0.55412454],\n",
       "       [0.10127281, 0.19665583, 0.70207136],\n",
       "       [0.4575639 , 0.29970388, 0.24273222],\n",
       "       [0.18136547, 0.21790542, 0.60072912],\n",
       "       [0.2743044 , 0.25378352, 0.47191208],\n",
       "       [0.22849007, 0.22541817, 0.54609175],\n",
       "       [0.37223835, 0.26452446, 0.36323718],\n",
       "       [0.2833012 , 0.23601478, 0.48068402],\n",
       "       [0.22793001, 0.23330957, 0.53876042],\n",
       "       [0.2016333 , 0.24978053, 0.54858617],\n",
       "       [0.21233263, 0.22020152, 0.56746585],\n",
       "       [0.10264278, 0.20665842, 0.69069881],\n",
       "       [0.13821808, 0.20145886, 0.66032306],\n",
       "       [0.13796243, 0.23112381, 0.63091376],\n",
       "       [0.31528479, 0.26451688, 0.42019833],\n",
       "       [0.20251308, 0.2222817 , 0.57520521],\n",
       "       [0.40844925, 0.27436508, 0.31718567],\n",
       "       [0.24749799, 0.24708506, 0.50541695],\n",
       "       [0.40089699, 0.25289019, 0.34621281],\n",
       "       [0.43588093, 0.28373852, 0.28038056],\n",
       "       [0.25605334, 0.24437725, 0.49956941],\n",
       "       [0.45653505, 0.28649704, 0.25696792],\n",
       "       [0.41622476, 0.27774366, 0.30603159],\n",
       "       [0.33573436, 0.23766347, 0.42660216],\n",
       "       [0.19429002, 0.22737839, 0.57833159],\n",
       "       [0.42298508, 0.27024901, 0.30676591],\n",
       "       [0.16381288, 0.23081238, 0.60537475],\n",
       "       [0.31430416, 0.23165358, 0.45404225],\n",
       "       [0.1877368 , 0.25293076, 0.55933244],\n",
       "       [0.26192051, 0.23373835, 0.50434115],\n",
       "       [0.31289963, 0.24724152, 0.43985885],\n",
       "       [0.3580552 , 0.26275984, 0.37918496],\n",
       "       [0.27887632, 0.26348415, 0.45763953],\n",
       "       [0.41200033, 0.27112741, 0.31687226],\n",
       "       [0.36607081, 0.27337193, 0.36055726],\n",
       "       [0.1440145 , 0.23206347, 0.62392203],\n",
       "       [0.21209891, 0.26622743, 0.52167366],\n",
       "       [0.18985412, 0.2321931 , 0.57795278],\n",
       "       [0.37027   , 0.24823089, 0.38149911],\n",
       "       [0.37146104, 0.26057306, 0.36796589],\n",
       "       [0.09490203, 0.23743774, 0.66766024],\n",
       "       [0.20039585, 0.23387278, 0.56573136],\n",
       "       [0.21110334, 0.22692358, 0.56197307],\n",
       "       [0.20607479, 0.2451631 , 0.54876211],\n",
       "       [0.47154363, 0.29889666, 0.22955971],\n",
       "       [0.21796706, 0.23533971, 0.54669323],\n",
       "       [0.29609316, 0.23584893, 0.46805791],\n",
       "       [0.43646994, 0.28254351, 0.28098655],\n",
       "       [0.42692765, 0.29454329, 0.27852906],\n",
       "       [0.19024109, 0.24877326, 0.56098565],\n",
       "       [0.22107537, 0.25409961, 0.52482502],\n",
       "       [0.1881306 , 0.23143701, 0.58043239],\n",
       "       [0.39715757, 0.26417942, 0.33866301],\n",
       "       [0.34681654, 0.25787453, 0.39530893],\n",
       "       [0.3593581 , 0.25985509, 0.38078681],\n",
       "       [0.29480588, 0.23981747, 0.46537665],\n",
       "       [0.21755324, 0.21520739, 0.56723936],\n",
       "       [0.20424286, 0.24514368, 0.55061346],\n",
       "       [0.23555538, 0.24290813, 0.52153649],\n",
       "       [0.20080173, 0.25449625, 0.54470202],\n",
       "       [0.4412201 , 0.26807325, 0.29070666],\n",
       "       [0.20966741, 0.22057994, 0.56975265],\n",
       "       [0.213417  , 0.22481949, 0.56176351],\n",
       "       [0.16035685, 0.22430644, 0.61533672],\n",
       "       [0.2284509 , 0.23683188, 0.53471723],\n",
       "       [0.14803238, 0.247851  , 0.60411662],\n",
       "       [0.24604663, 0.2300255 , 0.52392787],\n",
       "       [0.26131392, 0.24918357, 0.48950251],\n",
       "       [0.22822779, 0.2222935 , 0.54947871],\n",
       "       [0.32837951, 0.25580598, 0.41581452],\n",
       "       [0.26555264, 0.22889456, 0.50555281],\n",
       "       [0.19672999, 0.24596611, 0.5573039 ]])"
      ]
     },
     "execution_count": 80,
     "metadata": {},
     "output_type": "execute_result"
    }
   ],
   "source": [
    "yhat_prob "
   ]
  },
  {
   "cell_type": "code",
   "execution_count": 44,
   "metadata": {},
   "outputs": [
    {
     "name": "stdout",
     "output_type": "stream",
     "text": [
      "0.58\n"
     ]
    }
   ],
   "source": []
  },
  {
   "cell_type": "code",
   "execution_count": null,
   "metadata": {},
   "outputs": [],
   "source": []
  }
 ],
 "metadata": {
  "kernelspec": {
   "display_name": "Python",
   "language": "python",
   "name": "conda-env-python-py"
  },
  "language_info": {
   "codemirror_mode": {
    "name": "ipython",
    "version": 3
   },
   "file_extension": ".py",
   "mimetype": "text/x-python",
   "name": "python",
   "nbconvert_exporter": "python",
   "pygments_lexer": "ipython3",
   "version": "3.6.7"
  }
 },
 "nbformat": 4,
 "nbformat_minor": 4
}
